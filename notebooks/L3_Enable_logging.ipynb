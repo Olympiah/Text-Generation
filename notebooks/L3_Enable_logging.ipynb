{
 "cells": [
  {
   "cell_type": "markdown",
   "id": "cc6b7b9f-a75d-4b78-930f-26d2343ac2c2",
   "metadata": {},
   "source": [
    "# Lesson 3: Enable Logging"
   ]
  },
  {
   "cell_type": "markdown",
   "id": "06fc5839-0b4b-42a3-9aaf-99a97e347955",
   "metadata": {},
   "source": [
    "### Import all needed packages"
   ]
  },
  {
   "cell_type": "code",
   "execution_count": 2,
   "id": "63cf31e4",
   "metadata": {
    "height": 115
   },
   "outputs": [],
   "source": [
    "import boto3\n",
    "import json\n",
    "import os\n",
    "\n",
    "# creating a bedrock client\n",
    "bedrock = boto3.client('bedrock', region_name=\"us-west-2\")"
   ]
  },
  {
   "cell_type": "code",
   "execution_count": 4,
   "id": "e5d9e31b",
   "metadata": {
    "height": 64
   },
   "outputs": [],
   "source": [
    "from helpers.CloudWatchHelper import CloudWatch_Helper\n",
    "cloudwatch = CloudWatch_Helper()"
   ]
  },
  {
   "cell_type": "code",
   "execution_count": 6,
   "id": "87a30e7e",
   "metadata": {
    "height": 30
   },
   "outputs": [],
   "source": [
    "# Defining a log group name(where we want to send our log files to)\n",
    "log_group_name = '/my/amazon/bedrock/logs'"
   ]
  },
  {
   "cell_type": "code",
   "execution_count": 7,
   "id": "2461a51c",
   "metadata": {
    "height": 30
   },
   "outputs": [
    {
     "name": "stdout",
     "output_type": "stream",
     "text": [
      "Log group '/my/amazon/bedrock/logs' created successfully.\n"
     ]
    }
   ],
   "source": [
    "cloudwatch.create_log_group(log_group_name)"
   ]
  },
  {
   "cell_type": "code",
   "execution_count": 8,
   "id": "0afe5997",
   "metadata": {
    "height": 285
   },
   "outputs": [],
   "source": [
    "loggingConfig = {\n",
    "    'cloudWatchConfig': {\n",
    "        'logGroupName': log_group_name,\n",
    "        #arn- amazon resource name\n",
    "        'roleArn': os.environ['LOGGINGROLEARN'], \n",
    "        'largeDataDeliveryS3Config': {\n",
    "            'bucketName': os.environ['LOGGINGBUCKETNAME'],\n",
    "            'keyPrefix': 'amazon_bedrock_large_data_delivery',\n",
    "        }\n",
    "    },\n",
    "    's3Config': {\n",
    "        'bucketName': os.environ['LOGGINGBUCKETNAME'],\n",
    "        'keyPrefix': 'amazon_bedrock_logs',\n",
    "    },\n",
    "    'textDataDeliveryEnabled': True,\n",
    "}"
   ]
  },
  {
   "cell_type": "code",
   "execution_count": 9,
   "id": "2ca33ffe",
   "metadata": {
    "height": 47
   },
   "outputs": [
    {
     "data": {
      "text/plain": [
       "{'ResponseMetadata': {'RequestId': 'f288af9a-50b7-4e7c-9c7e-eec717198dd3',\n",
       "  'HTTPStatusCode': 200,\n",
       "  'HTTPHeaders': {'date': 'Tue, 19 Mar 2024 07:30:55 GMT',\n",
       "   'content-type': 'application/json',\n",
       "   'content-length': '2',\n",
       "   'connection': 'keep-alive',\n",
       "   'x-amzn-requestid': 'f288af9a-50b7-4e7c-9c7e-eec717198dd3'},\n",
       "  'RetryAttempts': 0}}"
      ]
     },
     "execution_count": 9,
     "metadata": {},
     "output_type": "execute_result"
    }
   ],
   "source": [
    "#Applying logging configuration to bedrock.\n",
    "bedrock.put_model_invocation_logging_configuration(loggingConfig=loggingConfig)"
   ]
  },
  {
   "cell_type": "code",
   "execution_count": 10,
   "id": "41fdb20d",
   "metadata": {
    "height": 47
   },
   "outputs": [
    {
     "data": {
      "text/plain": [
       "{'ResponseMetadata': {'RequestId': '31ea8092-c1a0-45ae-828f-f3951227986d',\n",
       "  'HTTPStatusCode': 200,\n",
       "  'HTTPHeaders': {'date': 'Tue, 19 Mar 2024 07:32:19 GMT',\n",
       "   'content-type': 'application/json',\n",
       "   'content-length': '572',\n",
       "   'connection': 'keep-alive',\n",
       "   'x-amzn-requestid': '31ea8092-c1a0-45ae-828f-f3951227986d'},\n",
       "  'RetryAttempts': 0},\n",
       " 'loggingConfig': {'cloudWatchConfig': {'logGroupName': '/my/amazon/bedrock/logs',\n",
       "   'roleArn': 'arn:aws:iam::557714912334:role/c99355a2566044l6191762t1w55771491233-LoggingIAMRole-HhRyzt9FE1Y0',\n",
       "   'largeDataDeliveryS3Config': {'bucketName': 'c99355a2566044l6191762t1w557714912-loggings3bucket-b2npockq5ayt',\n",
       "    'keyPrefix': 'amazon_bedrock_large_data_delivery'}},\n",
       "  's3Config': {'bucketName': 'c99355a2566044l6191762t1w557714912-loggings3bucket-b2npockq5ayt',\n",
       "   'keyPrefix': 'amazon_bedrock_logs'},\n",
       "  'textDataDeliveryEnabled': True,\n",
       "  'imageDataDeliveryEnabled': True,\n",
       "  'embeddingDataDeliveryEnabled': True}}"
      ]
     },
     "execution_count": 10,
     "metadata": {},
     "output_type": "execute_result"
    }
   ],
   "source": [
    "bedrock.get_model_invocation_logging_configuration()"
   ]
  },
  {
   "cell_type": "code",
   "execution_count": 11,
   "id": "95ebecb7",
   "metadata": {
    "height": 47
   },
   "outputs": [],
   "source": [
    "bedrock_runtime = boto3.client('bedrock-runtime', region_name=\"us-west-2\")"
   ]
  },
  {
   "cell_type": "code",
   "execution_count": 12,
   "id": "402c6311",
   "metadata": {
    "height": 438
   },
   "outputs": [
    {
     "name": "stdout",
     "output_type": "stream",
     "text": [
      "\n",
      "Foobar is a fictional planet that has been the subject of much speculation and discussion among science fiction fans and writers. The planet is first mentioned in the 1968 science fiction novel \"The Hitchhiker's Guide to the Galaxy\" by Douglas Adams. In the novel, Foobar is a planet that is home to a highly advanced and sophisticated civilization that is known for its art, music, and literature. The planet is also home to a unique species of alien beings known as the Vogon, who are known for their bureaucratic and unpleasant nature.\n",
      "\n",
      "Despite its fictional status, Foobar has become a popular symbol in the science fiction community, and has been referenced in a wide range of works since the publication of \"The Hitchhiker's Guide to the Galaxy.\" The planet has been depicted in various forms in different media, including movies, television shows, video games, and comic books. In some depictions, Foobar is portrayed as a utopia, while in others, it is depicted as a dystopia.\n",
      "\n",
      "One of the most interesting aspects of Foobar is its culture. The planet is known for its advanced technology, including flying cars, telepathy, and time travel. The Vogon, on the other hand, are known for their bureaucratic and unpleasant nature, and their interactions with the other inhabitants of Foobar are often characterized by frustration and conflict.\n",
      "\n",
      "Another notable feature of Foobar is its location. The planet is located in the vicinity of the galaxy's central black hole, and its proximity to the black hole has had a significant impact on the planet's culture and society. The Vogon, for example, are deeply concerned with the safety and security of their civilization, and they have developed a complex system of regulations and protocols to ensure that their society remains stable and secure.\n",
      "\n",
      "Despite its many positive aspects, Foobar has also been criticized for its portrayal of certain racial and gender stereotypes. The Vogon, for example, are often portrayed as being cold and calculating, and their interactions with the other inhabitants of Foobar are often characterized by a sense of superiority and contempt. This portrayal has been criticized by some as being offensive and insensitive.\n",
      "\n",
      "Despite these criticisms, Foobar remains a popular and influential fictional planet in the science fiction community. Its unique culture, advanced technology, and intriguing location continue to captivate fans and writers alike, and it remains a symbol of the limitless possibilities of science fiction and imagination. Whether it is portrayed as a utopia or a dystopia\n"
     ]
    }
   ],
   "source": [
    "prompt = \"Write an article about the fictional planet Foobar.\"\n",
    "\n",
    "kwargs = {\n",
    "    \"modelId\": \"amazon.titan-text-express-v1\",\n",
    "    \"contentType\": \"application/json\",\n",
    "    \"accept\": \"*/*\",\n",
    "    \"body\": json.dumps(\n",
    "        {\n",
    "            \"inputText\": prompt,\n",
    "            \"textGenerationConfig\": {\n",
    "                \"maxTokenCount\": 512,\n",
    "                \"temperature\": 0.7,\n",
    "                \"topP\": 0.9\n",
    "            }\n",
    "        }\n",
    "    )\n",
    "}\n",
    "\n",
    "response = bedrock_runtime.invoke_model(**kwargs)\n",
    "response_body = json.loads(response.get('body').read())\n",
    "\n",
    "generation = response_body['results'][0]['outputText']\n",
    "\n",
    "print(generation)"
   ]
  },
  {
   "cell_type": "code",
   "execution_count": 13,
   "id": "68a7bab7",
   "metadata": {
    "height": 30
   },
   "outputs": [],
   "source": [
    "# Note: pulls back all the entries from the last 5min\n",
    "cloudwatch.print_recent_logs(log_group_name)"
   ]
  },
  {
   "cell_type": "markdown",
   "id": "1118acfb",
   "metadata": {},
   "source": [
    "To review the logs within the AWS console, please use the following link to reference the steps outlined in the video:"
   ]
  },
  {
   "cell_type": "code",
   "execution_count": 14,
   "id": "2cf443d2",
   "metadata": {
    "height": 47
   },
   "outputs": [],
   "source": [
    "from IPython.display import HTML\n",
    "aws_url = os.environ['AWS_CONSOLE_URL']"
   ]
  },
  {
   "cell_type": "code",
   "execution_count": null,
   "id": "0b7c904c",
   "metadata": {
    "height": 64
   },
   "outputs": [],
   "source": [
    "HTML(f'<a href=\"{aws_url}\" target=\"_blank\">GO TO AWS CONSOLE</a>')\n"
   ]
  }
 ],
 "metadata": {
  "kernelspec": {
   "display_name": "Python 3 (ipykernel)",
   "language": "python",
   "name": "python3"
  },
  "language_info": {
   "codemirror_mode": {
    "name": "ipython",
    "version": 3
   },
   "file_extension": ".py",
   "mimetype": "text/x-python",
   "name": "python",
   "nbconvert_exporter": "python",
   "pygments_lexer": "ipython3",
   "version": "3.11.8"
  }
 },
 "nbformat": 4,
 "nbformat_minor": 5
}
